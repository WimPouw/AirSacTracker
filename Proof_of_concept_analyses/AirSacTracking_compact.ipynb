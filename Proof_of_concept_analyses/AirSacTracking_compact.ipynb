{
 "cells": [
  {
   "cell_type": "code",
   "execution_count": 1,
   "id": "4313bfe1",
   "metadata": {},
   "outputs": [],
   "source": [
    "# import the necessary packages\n",
    "import numpy as np\n",
    "import argparse\n",
    "import cv2\n",
    "import pandas as pd\n",
    "from skimage import io, feature, color, measure, draw, img_as_float\n",
    "import numpy as np\n",
    "import csv\n",
    "import random2\n",
    "import statistics\n",
    "import scipy\n",
    "from scipy import signal\n",
    "from scipy.signal import savgol_filter\n",
    "import matplotlib.pyplot as plt\n",
    "import itertools\n",
    "import os\n",
    "from os import listdir\n",
    "from os.path import isfile, join"
   ]
  },
  {
   "cell_type": "markdown",
   "id": "544025a3",
   "metadata": {},
   "source": [
    "## Define Prepocessing Function"
   ]
  },
  {
   "cell_type": "code",
   "execution_count": 2,
   "id": "faf57f06",
   "metadata": {},
   "outputs": [],
   "source": [
    "#define parameters for HoughTransform outside of function to be able to save and manipulate easier\n",
    "def hougdraw(submitted_image, dp = 1, mindist = 10000, param1 = 10, param2=22, minradius = 5, maxradius=250):\n",
    "    circles = cv2.HoughCircles(submitted_image, cv2.HOUGH_GRADIENT, \n",
    "                               dp = dp,minDist = mindist,  \n",
    "                               param1 = param1, param2 = param2, \n",
    "                               minRadius = minradius, maxRadius = maxradius)\n",
    "    if circles is not None:\n",
    "        circles = np.round(circles[0, 0:1]).astype(\"int\")\n",
    "        circle1 = circles[0,0]\n",
    "        circle2 = circles[0,1]\n",
    "        circle3 = circles[0,2]\n",
    "        for(x, y, r) in circles:\n",
    "            cv2.circle(submitted_image, (x, y), r, (255, 255, 0), 2) #version without drawing roi back on whole image \n",
    "    return(submitted_image)\n",
    "\n",
    "def preprocessing(image, medianblur = 27, \n",
    "                              dilation = 4, \n",
    "                              alpha = 1, \n",
    "                              beta= 15,\n",
    "                              thresh_div_1=5,\n",
    "                              thresh_div_2=10):\n",
    "    #image0 = hougdraw(image)\n",
    "    #convert to grayscale\n",
    "    gray = cv2.cvtColor(image, cv2.COLOR_RGB2GRAY)\n",
    "    #brightness change\n",
    "    gray = cv2.convertScaleAbs(gray, alpha = alpha, beta = beta)\n",
    "    #set dynamic tresholds for canny (and thus also for hough)\n",
    "    mean_intensity = np.median(gray)\n",
    "    threshold1 = int(max(0, (1.0 - 0.33) * mean_intensity/thresh_div_1))\n",
    "    threshold2 = int(min(255, (1.0 + 0.33) * mean_intensity/thresh_div_2))    \n",
    "    #blur\n",
    "    image2 = cv2.medianBlur(gray, medianblur)\n",
    "    #dynamic thresholds for canny edge detection based on intensity of image\n",
    "    #Thresholds one standard deviation above and below median intensity\n",
    "    #edge detection\n",
    "    image3 = cv2.Canny(image2, threshold1, threshold2)\n",
    "    #dilation and second blur\n",
    "    submitted = cv2.dilate(image3, None, iterations= dilation)  \n",
    "    image4 = cv2.medianBlur(submitted, medianblur) \n",
    "    #add hough\n",
    "    image4 = np.float32(image4)\n",
    "    return image4, threshold1, threshold2"
   ]
  },
  {
   "cell_type": "markdown",
   "id": "fc6a3fb7",
   "metadata": {},
   "source": [
    "# Loop to optimize parameters\n",
    "## looping through manully tracked videos"
   ]
  },
  {
   "cell_type": "code",
   "execution_count": 3,
   "id": "a2ab8631",
   "metadata": {},
   "outputs": [
    {
     "name": "stdout",
     "output_type": "stream",
     "text": [
      "done!\n"
     ]
    }
   ],
   "source": [
    "#######################################\n",
    "import random\n",
    "#version 2, using videos #################### loading in the videos\n",
    "videofolder = './snippets/videos/'\n",
    "vids = [f for f in listdir(videofolder) if isfile(join(videofolder, f))]\n",
    "vidlist = []\n",
    "\n",
    "for i in vids: #add the image folder name to get the full path\n",
    "    vidlist.append(videofolder +i) \n",
    "\n",
    "#######################################\n",
    "for video in vidlist:\n",
    "    name = os.path.basename(video)[0:-4]\n",
    "    #set up empty output dataframe\n",
    "    column_names = ['frame', # info on region of interest for repetability\n",
    "                            'x','y', 'r', 'name', 'sample_rate']# parameters of hough circle transform \n",
    "    df = pd.DataFrame(columns = column_names)\n",
    "    roi = [0, 0, 0, 0]\n",
    "            \n",
    "    ####################DO ROUTINEand \n",
    "    cap = cv2.VideoCapture(video)\n",
    "    frameWidth = cap.get(cv2.CAP_PROP_FRAME_WIDTH)\n",
    "    frameHeight = cap.get(cv2.CAP_PROP_FRAME_HEIGHT)\n",
    "    fps = cap.get(cv2.CAP_PROP_FPS)   #fps = frames per second\n",
    "    #also set up a video to track\n",
    "        #make an 'empty' video file where we project the pose tracking on\n",
    "    fourcc = cv2.VideoWriter_fourcc(*'MP4V') #for different video formats you could use e.g., *'XVID'\n",
    "    out = cv2.VideoWriter('snippets/tracked_hough/' + name + '_tracked.mp4', fourcc, \n",
    "                          fps = fps, frameSize = (int(frameWidth), int(frameHeight)))\n",
    "    \n",
    "    #for imtoprocess in videos:\n",
    "    j = 0   \n",
    "    while(cap.isOpened()):\n",
    "        ret, frame = cap.read()\n",
    "        j=j+1\n",
    "\n",
    "        if ret == False:\n",
    "            break\n",
    "        ############################detect circles   \n",
    "        output=frame.copy()\n",
    "        #image4, param1, param2 = preprocessing(image=output)\n",
    "        image4, param1, param2 = preprocessing(image=output)\n",
    "            #track demicircles \n",
    "        name = 'framenr_' + str(j) + '_framevid_' + os.path.basename(video[0:-4])\n",
    "        #process image for hough\n",
    "        final_im = cv2.normalize(src=image4, dst=None, alpha=0, beta=255, norm_type=cv2.NORM_MINMAX, dtype=cv2.CV_8U) \n",
    "        circles = cv2.HoughCircles(final_im, cv2.HOUGH_GRADIENT,param1 = param1,param2 = param2, dp = 1, minDist = 10000, maxRadius = 250)   \n",
    "       \n",
    "        if circles is not None:\n",
    "            if circles is not None:\n",
    "                circles = np.round(circles[0, 0:1]).astype(\"int\")\n",
    "                circle1 = circles[0,0] #x  + plus the shift from the roi\n",
    "                circle2 = circles[0,1] #y  + plus the shift from the roi\n",
    "                circle3 = circles[0,2]\n",
    "            #    #save it to a row\n",
    "                for(x, y, r) in circles:\n",
    "                    cv2.circle(output, (x, y), r, (255, 255, 0), 2) #version without drawing roi back on whole image \n",
    "            if circles is None:\n",
    "                circle1 = \"NA\"\n",
    "                circle2 = \"NA\"\n",
    "                circle3 = \"NA\"\n",
    "        out.write(output) #save the frame to the new masked video\n",
    "        new_row = [j, circle1, circle2,circle3, name, fps]\n",
    "        df.loc[len(df)] = new_row\n",
    "    out.release()\n",
    "    df.to_csv('./snippets/tracked_hough/'+name+'.csv', sep = ',')\n",
    "print('done!')\n"
   ]
  },
  {
   "cell_type": "code",
   "execution_count": null,
   "id": "89c54f53",
   "metadata": {},
   "outputs": [],
   "source": []
  },
  {
   "cell_type": "code",
   "execution_count": null,
   "id": "846b61e3",
   "metadata": {},
   "outputs": [],
   "source": []
  },
  {
   "cell_type": "markdown",
   "id": "f6aa6c5d",
   "metadata": {},
   "source": [
    "# Loop through all videos in the video folder"
   ]
  },
  {
   "cell_type": "code",
   "execution_count": null,
   "id": "be886259",
   "metadata": {},
   "outputs": [],
   "source": []
  },
  {
   "cell_type": "code",
   "execution_count": null,
   "id": "417fb269",
   "metadata": {},
   "outputs": [],
   "source": [
    "   "
   ]
  },
  {
   "cell_type": "code",
   "execution_count": null,
   "id": "2c59903d",
   "metadata": {},
   "outputs": [],
   "source": []
  },
  {
   "cell_type": "code",
   "execution_count": null,
   "id": "26952d4f",
   "metadata": {},
   "outputs": [],
   "source": []
  },
  {
   "cell_type": "code",
   "execution_count": null,
   "id": "3eb3c35f",
   "metadata": {},
   "outputs": [],
   "source": []
  },
  {
   "cell_type": "code",
   "execution_count": null,
   "id": "78c23bb1",
   "metadata": {},
   "outputs": [],
   "source": []
  },
  {
   "cell_type": "code",
   "execution_count": null,
   "id": "87a4dd25",
   "metadata": {},
   "outputs": [],
   "source": []
  },
  {
   "cell_type": "code",
   "execution_count": null,
   "id": "c5369d01",
   "metadata": {},
   "outputs": [],
   "source": []
  }
 ],
 "metadata": {
  "kernelspec": {
   "display_name": "Python 3",
   "language": "python",
   "name": "python3"
  },
  "language_info": {
   "codemirror_mode": {
    "name": "ipython",
    "version": 3
   },
   "file_extension": ".py",
   "mimetype": "text/x-python",
   "name": "python",
   "nbconvert_exporter": "python",
   "pygments_lexer": "ipython3",
   "version": "3.7.6"
  }
 },
 "nbformat": 4,
 "nbformat_minor": 5
}
