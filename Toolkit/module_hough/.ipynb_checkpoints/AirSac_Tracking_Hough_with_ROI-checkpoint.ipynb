{
 "cells": [
  {
   "cell_type": "code",
   "execution_count": 2,
   "id": "71a81e2b",
   "metadata": {},
   "outputs": [],
   "source": [
    "# import the necessary packages\n",
    "import argparse\n",
    "import cv2\n",
    "import pandas as pd\n",
    "from skimage import io, feature, color, measure, draw, img_as_float\n",
    "import numpy as np\n",
    "import itertools\n",
    "import os\n",
    "from os import listdir\n",
    "from os.path import isfile, join #for basic file operations\n",
    "from tqdm import tqdm            #for a process bar"
   ]
  },
  {
   "cell_type": "markdown",
   "id": "2dbaa635",
   "metadata": {},
   "source": [
    "Main Presets"
   ]
  },
  {
   "cell_type": "code",
   "execution_count": 71,
   "id": "4d213044",
   "metadata": {},
   "outputs": [],
   "source": [
    "# set videofolder\n",
    "videofolder = './videos/'\n",
    "\n",
    "# preset settings preprocessing (thresh 1 and 2 are also weighted and then passed to hough transform)\n",
    "medianblur_preset = 19\n",
    "dilation_preset = 7\n",
    "alpha_preset = 1\n",
    "beta_preset = 30\n",
    "thresh_div_1_preset = 7\n",
    "thresh_div_2_preset = 10\n",
    "\n",
    "# hough presets\n",
    "dp_preset = 1\n",
    "minDist_preset = 10000\n",
    "maxRadius_preset = 270"
   ]
  },
  {
   "cell_type": "code",
   "execution_count": 72,
   "id": "9df19b93",
   "metadata": {},
   "outputs": [],
   "source": [
    "##\n",
    "#rois for 9 manually tracked videos\n",
    "rois_dict = {'June09_01': [0,0,1503,1056],\n",
    "             'June09_02': [197,99,940,893],\n",
    "             'June09_03': [8,96,1156,925],\n",
    "             'June12_01': [773,302,707,597],\n",
    "             'June12_02': [655,1,913,1055],\n",
    "             'June12_03': [276,4,849,1052],\n",
    "             'June16_02': [617,83,810,838],\n",
    "             'June16_07': [836,240,858,720],\n",
    "             'June16_20': [463,122,1154,928]}"
   ]
  },
  {
   "cell_type": "markdown",
   "id": "5743180e",
   "metadata": {},
   "source": [
    "Main Function"
   ]
  },
  {
   "cell_type": "code",
   "execution_count": 73,
   "id": "13ab73e7",
   "metadata": {},
   "outputs": [],
   "source": [
    "def preprocessing(image, medianblur = medianblur_preset,\n",
    "                              dilation = dilation_preset,\n",
    "                              alpha = alpha_preset,\n",
    "                              beta= beta_preset,\n",
    "                              thresh_div_1= thresh_div_1_preset,\n",
    "                              thresh_div_2= thresh_div_2_preset):\n",
    "    #image0 = hougdraw(image)\n",
    "    #convert to grayscale\n",
    "    gray = cv2.cvtColor(image, cv2.COLOR_RGB2GRAY)\n",
    "    #brightness change\n",
    "    gray = cv2.convertScaleAbs(gray, alpha = alpha, beta = beta)\n",
    "    #set dynamic tresholds for canny (we will also pass this to the hough)\n",
    "    mean_intensity = np.median(gray)\n",
    "    threshold1 = int(max(0, (1.0 - 0.33) * mean_intensity/thresh_div_1))\n",
    "    threshold2 = int(min(255, (1.0 + 0.33) * mean_intensity/thresh_div_2))    \n",
    "    #blur\n",
    "    image2 = cv2.medianBlur(gray, medianblur)\n",
    "    #dynamic thresholds for canny edge detection based on intensity of image\n",
    "    #Thresholds one standard deviation above and below median intensity\n",
    "    #edge detection\n",
    "    image3 = cv2.Canny(image2, threshold1, threshold2)\n",
    "    #dilation and second blur\n",
    "    submitted = cv2.dilate(image3, None, iterations= dilation)  \n",
    "    image4 = cv2.medianBlur(submitted, medianblur) \n",
    "    #add hough\n",
    "    image4 = np.float32(image4)\n",
    "    return image4, threshold1, threshold2\n",
    "\n",
    "def preprocess_hough_apply_to_frame(image, mindist=10000, maxradius=250):\n",
    "    image, param1, param2 = preprocessing(image=image)\n",
    "    image = image[int(roi[1]):int(roi[1]+roi[3]), int(roi[0]):int(roi[0]+roi[2])] ##\n",
    "    image = cv2.normalize(src= image, dst=None, alpha=0, beta=255, norm_type=cv2.NORM_MINMAX, dtype=cv2.CV_8U) \n",
    "    circles = cv2.HoughCircles(image, cv2.HOUGH_GRADIENT,param1 = param1, param2 = param2, dp = dp_preset, minDist = minDist_preset, maxRadius = maxRadius_preset)   \n",
    "    return(circles)"
   ]
  },
  {
   "cell_type": "markdown",
   "id": "2385ba18",
   "metadata": {},
   "source": [
    "Loop throuh video folder and process each video"
   ]
  },
  {
   "cell_type": "code",
   "execution_count": 74,
   "id": "e708e0ad",
   "metadata": {
    "scrolled": true
   },
   "outputs": [
    {
     "name": "stderr",
     "output_type": "stream",
     "text": [
      "Processing June09_01: 100%|██████████████████████████████████████████████████| 301/301 [01:21<00:00,  3.71it/s]\n"
     ]
    },
    {
     "name": "stdout",
     "output_type": "stream",
     "text": [
      "done!\n"
     ]
    },
    {
     "name": "stderr",
     "output_type": "stream",
     "text": [
      "Processing June09_02: 100%|██████████████████████████████████████████████████| 137/137 [00:23<00:00,  5.85it/s]\n"
     ]
    },
    {
     "name": "stdout",
     "output_type": "stream",
     "text": [
      "done!\n"
     ]
    },
    {
     "name": "stderr",
     "output_type": "stream",
     "text": [
      "Processing June09_03: 100%|██████████████████████████████████████████████████| 60/60 [00:16<00:00,  3.55it/s]\n"
     ]
    },
    {
     "name": "stdout",
     "output_type": "stream",
     "text": [
      "done!\n"
     ]
    },
    {
     "name": "stderr",
     "output_type": "stream",
     "text": [
      "Processing June12_01: 100%|██████████████████████████████████████████████████| 46/46 [00:07<00:00,  6.31it/s]\n"
     ]
    },
    {
     "name": "stdout",
     "output_type": "stream",
     "text": [
      "done!\n"
     ]
    },
    {
     "name": "stderr",
     "output_type": "stream",
     "text": [
      "Processing June12_02: 100%|██████████████████████████████████████████████████| 315/315 [00:51<00:00,  6.14it/s]\n"
     ]
    },
    {
     "name": "stdout",
     "output_type": "stream",
     "text": [
      "done!\n"
     ]
    },
    {
     "name": "stderr",
     "output_type": "stream",
     "text": [
      "Processing June12_03: 100%|██████████████████████████████████████████████████| 122/122 [00:23<00:00,  5.22it/s]\n"
     ]
    },
    {
     "name": "stdout",
     "output_type": "stream",
     "text": [
      "done!\n"
     ]
    },
    {
     "name": "stderr",
     "output_type": "stream",
     "text": [
      "Processing June16_02: 100%|██████████████████████████████████████████████████| 323/323 [00:48<00:00,  6.64it/s]\n"
     ]
    },
    {
     "name": "stdout",
     "output_type": "stream",
     "text": [
      "done!\n"
     ]
    },
    {
     "name": "stderr",
     "output_type": "stream",
     "text": [
      "Processing June16_07: 100%|██████████████████████████████████████████████████| 165/165 [00:43<00:00,  3.82it/s]\n"
     ]
    },
    {
     "name": "stdout",
     "output_type": "stream",
     "text": [
      "done!\n"
     ]
    },
    {
     "name": "stderr",
     "output_type": "stream",
     "text": [
      "Processing June16_20: 100%|██████████████████████████████████████████████████| 169/169 [00:31<00:00,  5.44it/s]"
     ]
    },
    {
     "name": "stdout",
     "output_type": "stream",
     "text": [
      "done!\n"
     ]
    },
    {
     "name": "stderr",
     "output_type": "stream",
     "text": [
      "\n"
     ]
    }
   ],
   "source": [
    "#version 2, using videos #################### loading in the videos\n",
    "vids = [f for f in listdir(videofolder) if isfile(join(videofolder, f))]\n",
    "vidlist = []\n",
    "\n",
    "for i in vids: #add the image folder name to get the full path\n",
    "    vidlist.append(videofolder +i) \n",
    "\n",
    "#######################################\n",
    "for video in vidlist:\n",
    "    name = os.path.basename(video)[0:-4]\n",
    "    #set up empty output dataframe\n",
    "    column_names = ['frame', # info on region of interest for repetability\n",
    "                            'x','y', 'r', 'name', 'sample_rate', 'examplenr']# parameters of hough circle transform \n",
    "    df = pd.DataFrame(columns = column_names)\n",
    "    \n",
    "    # roi = [0, 0, 0, 0]\n",
    "    roi = rois_dict[os.path.basename(video)[0:-4]] ##\n",
    "        \n",
    "    ####################set up video settings\n",
    "    cap = cv2.VideoCapture(video)                       #set video to capture\n",
    "    frameWidth = cap.get(cv2.CAP_PROP_FRAME_WIDTH)      #frame width\n",
    "    frameHeight = cap.get(cv2.CAP_PROP_FRAME_HEIGHT)    #frame height\n",
    "    fps = cap.get(cv2.CAP_PROP_FPS)                     #fps = frames per second\n",
    "    num_frames = int(cap.get(cv2.CAP_PROP_FRAME_COUNT)) #number of frames\n",
    "            #set up video writer\n",
    "    fourcc = cv2.VideoWriter_fourcc(*'MP4V') #for different video formats you could use e.g., *'XVID'\n",
    "    out = cv2.VideoWriter('./results/' + name + '_tracked.mp4', fourcc, \n",
    "                          fps = fps, frameSize = (int(frameWidth), int(frameHeight)))\n",
    "    ####################\n",
    "    \n",
    "    ###################loop over frames of the original video\n",
    "    j = 0   #fame counter\n",
    "    \n",
    "    #set up progress bar\n",
    "    with tqdm(total=num_frames, desc=\"Processing \" + name, bar_format=\"{l_bar}{bar:50}{r_bar}\") as pbar:\n",
    "        #the loop over frames (will close when no more frames are left to process)\n",
    "        while(cap.isOpened()):\n",
    "            ret, frame = cap.read()\n",
    "            if ret == False:\n",
    "                break\n",
    "            j=j+1 #add to the frame counter\n",
    "            name = 'framenr_' + str(j) + '_framevid_' + os.path.basename(video[0:-4])\n",
    "            ############################detect circles   \n",
    "            to_be_processed_frame=frame.copy() #we keep the original frame\n",
    "            #apply hough\n",
    "            circles = preprocess_hough_apply_to_frame(to_be_processed_frame)        \n",
    "            #draw the circles\n",
    "            if circles is not None:\n",
    "                circles = np.round(circles[0, 0:1]).astype(\"int\")\n",
    "                x = circles[0,0]+roi[0] #x  + plus the shift from the roi ##\n",
    "                y = circles[0,1]+roi[1] #y  + plus the shift from the roi ##\n",
    "                r = circles[0,2]\n",
    "                cv2.circle(frame, (x, y), r, (255, 255, 0), 2) #version without drawing roi back on whole image \n",
    "                #save it to a row\n",
    "            if circles is None:\n",
    "                x = \"NA\"\n",
    "                y = \"NA\"\n",
    "                r = \"NA\"\n",
    "            #write frame\n",
    "            out.write(frame) #save the frame to the new masked video\n",
    "            #write x,y,r data\n",
    "            exp = 'exp5'\n",
    "            new_row = [j, x, y, r, name, fps, exp]\n",
    "            df.loc[len(df)] = new_row\n",
    "            #now update the progress bar\n",
    "            pbar.update(1)\n",
    "        #release video writer\n",
    "        out.release()\n",
    "        #save csv file with the timeseries results\n",
    "        savename = os.path.basename(video)[0:-4]\n",
    "        df.to_csv('./results/'+savename+'.csv', sep = ',')\n",
    "        \n",
    "    print('done!')\n"
   ]
  },
  {
   "cell_type": "code",
   "execution_count": null,
   "id": "3b52fc1e",
   "metadata": {},
   "outputs": [],
   "source": []
  },
  {
   "cell_type": "code",
   "execution_count": null,
   "id": "b554a2e3",
   "metadata": {},
   "outputs": [],
   "source": [
    "\n"
   ]
  },
  {
   "cell_type": "code",
   "execution_count": null,
   "id": "40d4b39c",
   "metadata": {},
   "outputs": [],
   "source": []
  },
  {
   "cell_type": "code",
   "execution_count": null,
   "id": "25ca7d97",
   "metadata": {},
   "outputs": [],
   "source": []
  }
 ],
 "metadata": {
  "kernelspec": {
   "display_name": "Python 3 (ipykernel)",
   "language": "python",
   "name": "python3"
  },
  "language_info": {
   "codemirror_mode": {
    "name": "ipython",
    "version": 3
   },
   "file_extension": ".py",
   "mimetype": "text/x-python",
   "name": "python",
   "nbconvert_exporter": "python",
   "pygments_lexer": "ipython3",
   "version": "3.10.9"
  }
 },
 "nbformat": 4,
 "nbformat_minor": 5
}
